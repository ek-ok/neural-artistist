{
 "cells": [
  {
   "cell_type": "code",
   "execution_count": 1,
   "metadata": {
    "scrolled": false
   },
   "outputs": [
    {
     "name": "stdout",
     "output_type": "stream",
     "text": [
      "The autoreload extension is already loaded. To reload it, use:\n",
      "  %reload_ext autoreload\n"
     ]
    }
   ],
   "source": [
    "%load_ext autoreload\n",
    "%autoreload 2"
   ]
  },
  {
   "cell_type": "code",
   "execution_count": 7,
   "metadata": {},
   "outputs": [
    {
     "name": "stdout",
     "output_type": "stream",
     "text": [
      "total 6648\r\n",
      "-rw-r--r--  1 Ikkei  staff  324288 Dec  7 15:42  starry_night.jpg\r\n",
      "-rw-r--r--  1 Ikkei  staff  284759 Dec  9 16:31 csjl.jpeg\r\n",
      "-rw-r--r--  1 Ikkei  staff  160407 Dec  9 16:31 guernica.jpg\r\n",
      "-rw-r--r--  1 Ikkei  staff  183755 Dec  9 16:31 hk.jpg\r\n",
      "-rw-r--r--  1 Ikkei  staff  204053 Dec  7 15:42 nyc_night.jpg\r\n",
      "-rw-r--r--  1 Ikkei  staff  173093 Dec  7 15:42 output.jpeg\r\n",
      "-rw-r--r--  1 Ikkei  staff   21771 Dec  9 16:31 output_csjl_starry_night.jpg\r\n",
      "-rw-r--r--  1 Ikkei  staff   19838 Dec  9 16:31 output_hk_guernica.jpg\r\n",
      "-rw-r--r--  1 Ikkei  staff   20352 Dec  9 16:31 output_tubingen_scream.jpg\r\n",
      "-rw-r--r--  1 Ikkei  staff   15871 Dec  9 16:31 output_tubingen_seated_nude.jpg\r\n",
      "-rw-r--r--  1 Ikkei  staff   16821 Dec  9 16:31 output_tubingen_shipwreck.jpg\r\n",
      "-rw-r--r--  1 Ikkei  staff   24776 Dec  9 16:31 output_tubingen_somposition.jpg\r\n",
      "-rw-r--r--  1 Ikkei  staff   21918 Dec  9 16:31 output_tubingen_starry_night.jpg\r\n",
      "-rw-r--r--  1 Ikkei  staff  187647 Dec  9 16:31 scream.jpg\r\n",
      "-rw-r--r--  1 Ikkei  staff  334862 Dec  7 15:42 seated_nude.jpg\r\n",
      "-rw-r--r--  1 Ikkei  staff  339415 Dec  7 15:42 sg_night.jpg\r\n",
      "-rw-r--r--  1 Ikkei  staff  212337 Dec  7 15:42 shanghai_pudong.jpg\r\n",
      "-rw-r--r--  1 Ikkei  staff   61174 Dec  7 15:42 shipwreck.jpg\r\n",
      "-rw-r--r--  1 Ikkei  staff   62035 Dec  7 15:42 somposition.jpg\r\n",
      "-rw-r--r--  1 Ikkei  staff  200911 Dec  7 15:42 starry_night.jpg\r\n",
      "-rw-r--r--  1 Ikkei  staff  251151 Dec  7 15:42 the_great_wave.jpg\r\n",
      "-rw-r--r--  1 Ikkei  staff  239309 Dec  9 16:31 tubingen.jpg\r\n"
     ]
    }
   ],
   "source": [
    "!ls -l images/"
   ]
  },
  {
   "cell_type": "markdown",
   "metadata": {},
   "source": [
    "## Define configuration"
   ]
  },
  {
   "cell_type": "markdown",
   "metadata": {},
   "source": [
    "## Generate Image"
   ]
  },
  {
   "cell_type": "code",
   "execution_count": null,
   "metadata": {},
   "outputs": [
    {
     "name": "stdout",
     "output_type": "stream",
     "text": [
      "tubingen.jpg was resized from (960, 720) to (300, 225)\n",
      "scream.jpg was resized from (640, 795) to (300, 225)\n",
      "(225, 300)\n",
      "17429340000.0\n"
     ]
    }
   ],
   "source": [
    "import stylize\n",
    "\n",
    "content = 'tubingen.jpg'\n",
    "style = 'scream.jpg'\n",
    "\n",
    "stylize.apply(content, style, learning_rate=2.0,iters=100, \n",
    "              alpha=1, beta=100, noise_ratio=0.6, new_width=300, pool_method='avg',\n",
    "              pool_stride=2, style_loss_layers_w=(0.2, 0.2, 0.2, 0.2, 0.2), \n",
    "              style_num_layers=5, content_layer_num=4, optimizer='adam')"
   ]
  },
  {
   "cell_type": "markdown",
   "metadata": {},
   "source": [
    "## Average Run Time"
   ]
  },
  {
   "cell_type": "code",
   "execution_count": null,
   "metadata": {},
   "outputs": [],
   "source": [
    "ave_run_time"
   ]
  },
  {
   "cell_type": "markdown",
   "metadata": {},
   "source": [
    "## Visualize Image"
   ]
  },
  {
   "cell_type": "code",
   "execution_count": null,
   "metadata": {
    "scrolled": true
   },
   "outputs": [],
   "source": [
    "import matplotlib.pyplot as plt\n",
    "final_image1 = final_image[0].astype(int)\n",
    "final_image1 = final_image1[:, :, ::-1]\n",
    "plt.imshow(final_image1)"
   ]
  },
  {
   "cell_type": "markdown",
   "metadata": {},
   "source": [
    "## Plot Losses"
   ]
  },
  {
   "cell_type": "code",
   "execution_count": null,
   "metadata": {},
   "outputs": [],
   "source": [
    "import pandas as pd\n",
    "plt.figure(figsize=(20, 10))\n",
    "ax1 = plt.gca()\n",
    "total_losses = pd.DataFrame(total_losses)\n",
    "content_losses = pd.DataFrame(content_losses)\n",
    "style_losses = pd.DataFrame(style_losses)\n",
    "ax1.plot(total_losses, label='total_losses')\n",
    "ax1.plot(content_losses, label='content losses')\n",
    "ax1.plot(style_losses, label='style losses')\n",
    "ax1.legend()\n",
    "ax1.set_title(\"Losses over iterations\", fontsize=14)\n",
    "ax1.set_ylabel(\"Loss\", fontsize=14)\n",
    "ax1.set_xlabel(\"Iterations\", fontsize=14);"
   ]
  },
  {
   "cell_type": "code",
   "execution_count": null,
   "metadata": {},
   "outputs": [],
   "source": []
  }
 ],
 "metadata": {
  "kernelspec": {
   "display_name": "Python (dlenv)",
   "language": "python",
   "name": "dlenv"
  },
  "language_info": {
   "codemirror_mode": {
    "name": "ipython",
    "version": 3
   },
   "file_extension": ".py",
   "mimetype": "text/x-python",
   "name": "python",
   "nbconvert_exporter": "python",
   "pygments_lexer": "ipython3",
   "version": "3.6.6"
  }
 },
 "nbformat": 4,
 "nbformat_minor": 2
}
