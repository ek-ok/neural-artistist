{
 "cells": [
  {
   "cell_type": "code",
   "execution_count": 1,
   "metadata": {
    "scrolled": false
   },
   "outputs": [],
   "source": [
    "%load_ext autoreload\n",
    "%autoreload 2"
   ]
  },
  {
   "cell_type": "code",
   "execution_count": 2,
   "metadata": {},
   "outputs": [
    {
     "name": "stdout",
     "output_type": "stream",
     "text": [
      "total 2708\r\n",
      "-rw-rw-r-- 1 ecbm4040 ecbm4040 204053 Dec  5 03:53 nyc_night.jpg\r\n",
      "-rw-rw-r-- 1 ecbm4040 ecbm4040 162813 Dec  5 05:42 output.jpeg\r\n",
      "-rw-rw-r-- 1 ecbm4040 ecbm4040 114636 Dec  5 03:53 scream.jpg\r\n",
      "-rw-rw-r-- 1 ecbm4040 ecbm4040 334862 Dec  5 03:53 seated_nude.jpg\r\n",
      "-rw-rw-r-- 1 ecbm4040 ecbm4040 339415 Dec  5 03:53 sg_night.jpg\r\n",
      "-rw-rw-r-- 1 ecbm4040 ecbm4040 212337 Dec  5 03:53 shanghai_pudong.jpg\r\n",
      "-rw-rw-r-- 1 ecbm4040 ecbm4040  61174 Dec  5 03:53 shipwreck.jpg\r\n",
      "-rw-rw-r-- 1 ecbm4040 ecbm4040  62035 Dec  5 03:53 somposition.jpg\r\n",
      "-rw-rw-r-- 1 ecbm4040 ecbm4040 324288 Dec  5 03:53  starry_night.jpg\r\n",
      "-rw-rw-r-- 1 ecbm4040 ecbm4040 200911 Dec  5 03:53 starry_night.jpg\r\n",
      "-rw-rw-r-- 1 ecbm4040 ecbm4040 251151 Dec  5 03:53 the_great_wave.jpg\r\n",
      "-rw-rw-r-- 1 ecbm4040 ecbm4040 242332 Dec  5 05:07 the_scream.jpg\r\n",
      "-rw-rw-r-- 1 ecbm4040 ecbm4040 239309 Dec  5 03:53 tubingen_van_gogh.jpg\r\n"
     ]
    }
   ],
   "source": [
    "!ls -l images/"
   ]
  },
  {
   "cell_type": "code",
   "execution_count": 4,
   "metadata": {
    "scrolled": true
   },
   "outputs": [
    {
     "name": "stdout",
     "output_type": "stream",
     "text": [
      "Iteration: 0, total loss: 5.73996036710875e+24, content loss: 85106286592.0, style loss: 5.739960448173543e+21\n",
      "Iteration: 100, total loss: 6.704692849901226e+21, content loss: 147796688896.0, style loss: 6.704692713561784e+18\n",
      "Iteration: 200, total loss: 2.957956353957594e+21, content loss: 151051698176.0, style loss: 2.957956483699966e+18\n",
      "Iteration: 300, total loss: 1.8204654483115134e+21, content loss: 152997953536.0, style loss: 1.820465387838374e+18\n",
      "Iteration: 400, total loss: 1.2120164722798074e+21, content loss: 154680082432.0, style loss: 1.2120164063091098e+18\n",
      "Iteration: 500, total loss: 1.111613011080977e+21, content loss: 155864956928.0, style loss: 1.1116129901902561e+18\n",
      "Iteration: 600, total loss: 7.713396709540695e+20, content loss: 156998074368.0, style loss: 7.713397050389299e+17\n",
      "Iteration: 700, total loss: 7.72077768711749e+20, content loss: 157977296896.0, style loss: 7.720777522190746e+17\n",
      "Iteration: 800, total loss: 3.742869029763628e+21, content loss: 159922454528.0, style loss: 3.742868972589023e+18\n",
      "Iteration: 900, total loss: 9.227014323053412e+20, content loss: 160763641856.0, style loss: 9.227014306560737e+17\n",
      "Iteration: 1000, total loss: 1.4624425072594644e+21, content loss: 162529296384.0, style loss: 1.4624425490409062e+18\n"
     ]
    }
   ],
   "source": [
    "import stylize\n",
    "\n",
    "content = 'tubingen_van_gogh.jpg'\n",
    "style = 'somposition.jpg'\n",
    "\n",
    "stylize.apply(content, style, learning_rate=5.0, iterations=1001, alpha=1, beta=10000, noise_ratio=0.9)"
   ]
  }
 ],
 "metadata": {
  "kernelspec": {
   "display_name": "Python 3",
   "language": "python",
   "name": "python3"
  },
  "language_info": {
   "codemirror_mode": {
    "name": "ipython",
    "version": 3
   },
   "file_extension": ".py",
   "mimetype": "text/x-python",
   "name": "python",
   "nbconvert_exporter": "python",
   "pygments_lexer": "ipython3",
   "version": "3.6.7"
  }
 },
 "nbformat": 4,
 "nbformat_minor": 2
}
