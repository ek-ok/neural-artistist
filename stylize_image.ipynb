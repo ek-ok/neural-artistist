{
 "cells": [
  {
   "cell_type": "code",
   "execution_count": 1,
   "metadata": {
    "scrolled": false
   },
   "outputs": [],
   "source": [
    "%load_ext autoreload\n",
    "%autoreload 2"
   ]
  },
  {
   "cell_type": "code",
   "execution_count": null,
   "metadata": {
    "scrolled": false
   },
   "outputs": [
    {
     "name": "stdout",
     "output_type": "stream",
     "text": [
      "Iteration: 0, Total loss: 8.104710259038266e+20, content loss: 63765680128.0, style loss: 1.6209420869920254e+20\n",
      "Iteration: 100, Total loss: 2.675710474460332e+18, content loss: 113660895232.0, style loss: 5.351420674042757e+17\n",
      "Iteration: 200, Total loss: 1.0820733046399959e+18, content loss: 117140799488.0, style loss: 2.1641465749202534e+17\n",
      "Iteration: 300, Total loss: 6.472458677906309e+17, content loss: 119049920512.0, style loss: 1.2944917184013926e+17\n",
      "Iteration: 400, Total loss: 4.700920389272863e+17, content loss: 120226357248.0, style loss: 9.401840606747034e+16\n",
      "Iteration: 500, Total loss: 3.758164759879352e+17, content loss: 121158615040.0, style loss: 7.516329347960013e+16\n"
     ]
    }
   ],
   "source": [
    "import stylize\n",
    "\n",
    "content = 'tubingen_van_gogh.jpg'\n",
    "style = 'starry_night.jpg'\n",
    "\n",
    "stylize.apply(content, style, learning_rate=2.0, iterations=1000, alpha=100, beta=5, noise_ratio=0.6)"
   ]
  }
 ],
 "metadata": {
  "kernelspec": {
   "display_name": "Python 3",
   "language": "python",
   "name": "python3"
  },
  "language_info": {
   "codemirror_mode": {
    "name": "ipython",
    "version": 3
   },
   "file_extension": ".py",
   "mimetype": "text/x-python",
   "name": "python",
   "nbconvert_exporter": "python",
   "pygments_lexer": "ipython3",
   "version": "3.6.5"
  }
 },
 "nbformat": 4,
 "nbformat_minor": 2
}
